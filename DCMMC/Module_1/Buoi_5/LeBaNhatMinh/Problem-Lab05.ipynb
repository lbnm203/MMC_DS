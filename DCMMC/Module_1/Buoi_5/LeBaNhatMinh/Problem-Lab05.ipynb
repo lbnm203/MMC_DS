{
 "cells": [
  {
   "cell_type": "markdown",
   "metadata": {
    "id": "jxgT4r6ovuvd"
   },
   "source": [
    "#Bài tập 1: Thao tác với ma trận  \n",
    "**Lý thuyết**:  \n",
    "NumPy cung cấp các công cụ mạnh mẽ để thao tác ma trận, bao gồm tính toán các định thức, tìm nghịch đảo và tính toán các giá trị riêng và vectơ riêng.\n",
    "  \n",
    "**Đề bài**:  \n",
    "Tạo ma trận 5x5 ngẫu nhiên và thực hiện các thao tác sau:  \n",
    "* Tính định thức (determinant) của ma trận.  \n",
    "* Tìm nghịch đảo (transpose) của ma trận.  \n",
    "* Tính các giá trị riêng (eigent value) và vectơ riêng (eigent vector) của ma trận.   \n",
    "(Phần này sẽ liên quan tới đại số tuyến tính, mọi người có thể tự tìm hiểu để hiểu chi tiết về các khái niệm trên)\n",
    "\n",
    "<details>\n",
    "  <summary>Hint</summary>\n",
    "\n",
    "```python\n",
    "import numpy as np\n",
    "\n",
    "# Generate a random 5x5 matrix\n",
    "matrix = np.random.rand(5, 5)\n",
    "\n",
    "# Compute determinant\n",
    "det = np.linalg.det(matrix)\n",
    "\n",
    "# Find inverse\n",
    "inverse = np.linalg.inv(matrix)\n",
    "\n",
    "# Calculate eigenvalues and eigenvectors\n",
    "eigenvalues, eigenvectors = np.linalg.eig(matrix)\n",
    "\n",
    "```\n",
    "</details>"
   ]
  },
  {
   "cell_type": "code",
   "execution_count": 64,
   "metadata": {
    "executionInfo": {
     "elapsed": 2,
     "status": "ok",
     "timestamp": 1711943184294,
     "user": {
      "displayName": "Nha Nguyen",
      "userId": "05581690424976052134"
     },
     "user_tz": -420
    },
    "id": "-SEd8zd9tBN8"
   },
   "outputs": [
    {
     "name": "stdout",
     "output_type": "stream",
     "text": [
      "0.0010188541050022604\n",
      "[[ 0.12757458 -0.66508113  1.0510974  -1.2156626   0.88486868]\n",
      " [-1.76651699  0.14729524  0.78607431  0.59875966  0.86020765]\n",
      " [ 4.107167   -2.19054722 -2.89086722  0.01908843  0.09784252]\n",
      " [-2.92963722  2.97069292  1.24773307  0.19904679 -0.20926313]\n",
      " [ 1.73696232 -1.10003676 -0.36032478  0.7669466  -0.78418003]]\n"
     ]
    }
   ],
   "source": [
    "# Your code here\n",
    "import numpy as np\n",
    "A = np.random.rand(5,5)\n",
    "\n",
    "# det_A = np.linalg.det(A)\n",
    "print(det_A)\n",
    "tran_Ax = np.linalg.inv(A)\n",
    "# tran_Ax = np.transpose(A)\n",
    "# tran_A = A.T\n",
    "print(tran_Ax)\n",
    "# print(tran_A)\n",
    "\n",
    "# eigval, eigvec = np.linalg.eig(A) \n",
    "# print(eigval, eigvec)\n"
   ]
  },
  {
   "cell_type": "markdown",
   "metadata": {
    "id": "j5y16Eqkxd_o"
   },
   "source": [
    "# Bài tập 2: Optimization\n",
    "**Lý thuyết:**  \n",
    "Gradient descent là một thuật toán tối ưu hóa được sử dụng để cực tiểu hóa hàm bằng cách di chuyển lặp đi lặp lại theo hướng dốc xuống.\n",
    "\n",
    "**Đề bài:**  \n",
    "Triển khai gradient descent sử dụng NumPy để tối ưu hàm số sau:\n",
    " $$ f(x) = x^2 + 5 \\sin(x) $$\n",
    "<details>\n",
    "  <summary>Hint</summary>\n",
    "\n",
    "```python\n",
    "import numpy as np\n",
    "\n",
    "def gradient_descent(x, learning_rate, iterations):\n",
    "    for _ in range(iterations):\n",
    "        gradient = 2*x + 5*np.cos(x)  # Đạo hàm riêng theo x\n",
    "        x = x - learning_rate * gradient # Cập nhật tham số\n",
    "    return x\n",
    "\n",
    "# Khởi tạo các hyperparameters\n",
    "x_initial = 5  # Input đầu vào\n",
    "learning_rate = 0.1 # Tốc độ học\n",
    "iterations = 100 # Số lần lặp\n",
    "\n",
    "# Run gradient descent\n",
    "minima = gradient_descent(x_initial, learning_rate, iterations)\n",
    "```\n",
    "\n",
    "</details>"
   ]
  },
  {
   "cell_type": "code",
   "execution_count": 59,
   "metadata": {
    "executionInfo": {
     "elapsed": 2,
     "status": "ok",
     "timestamp": 1711943686064,
     "user": {
      "displayName": "Nha Nguyen",
      "userId": "05581690424976052134"
     },
     "user_tz": -420
    },
    "id": "s3Q3kOnuwxxW"
   },
   "outputs": [
    {
     "data": {
      "text/plain": [
       "-1.1105105035811123"
      ]
     },
     "execution_count": 59,
     "metadata": {},
     "output_type": "execute_result"
    }
   ],
   "source": [
    "# Your code here\n",
    "import numpy as np\n",
    "\n",
    "def gradient_descent(x, learning_rate, iter):\n",
    "    for _ in range(iter):\n",
    "        gradient = 2*x + 5*np.cos(x)\n",
    "        x = x - learning_rate * gradient\n",
    "    return x\n",
    "\n",
    "i_x = 10\n",
    "learning_rate = 0.2\n",
    "iter = 100\n",
    "\n",
    "f_x = gradient_descent(i_x, learning_rate, iter)\n",
    "f_x"
   ]
  },
  {
   "cell_type": "markdown",
   "metadata": {
    "id": "r9TwMgo-y5tm"
   },
   "source": [
    "# Bài tập 3: Phân tích thống kê  \n",
    "**Lý thuyết**:  \n",
    "NumPy cung cấp các chức năng để phân tích thống kê, bao gồm tính toán giá trị trung bình (mean), trung vị (median), độ lệch chuẩn (standard deviation) và mối tương quan (correlation).  \n",
    "\n",
    "**Đề Bài**:  \n",
    "Thực hiện phân tích thống kê trên tập dữ liệu bai3.csv bằng NumPy:  \n",
    "* Tính giá trị trung bình, trung vị và độ lệch chuẩn của tập dữ liệu.\n",
    "* Tính toán ma trận tương quan giữa các biến khác nhau.\n",
    "* Xác định các ngoại lệ trong tập dữ liệu bằng cách sử dụng điểm z.\n",
    "\n",
    "<details>\n",
    "  <summary>Hint</summary>\n",
    "\n",
    "```python\n",
    "  # Load dataset\n",
    "  data = np.loadtxt('dataset.csv', delimiter=',')\n",
    "\n",
    "  # Calculate mean, median, and standard deviation\n",
    "  mean = np.mean(data, axis=0)\n",
    "  median = np.median(data, axis=0)\n",
    "  std_dev = np.std(data, axis=0)\n",
    "\n",
    "  # Compute correlation matrix\n",
    "  correlation_matrix = np.corrcoef(data, rowvar=False)\n",
    "\n",
    "  # Identify outliers using z-scores\n",
    "  z_scores = np.abs((data - mean) / std_dev)\n",
    "  outliers = np.where(z_scores > 3)\n",
    "```\n",
    "</details>"
   ]
  },
  {
   "cell_type": "code",
   "execution_count": 60,
   "metadata": {
    "id": "KjYxequp1pld"
   },
   "outputs": [
    {
     "data": {
      "text/html": [
       "<div>\n",
       "<style scoped>\n",
       "    .dataframe tbody tr th:only-of-type {\n",
       "        vertical-align: middle;\n",
       "    }\n",
       "\n",
       "    .dataframe tbody tr th {\n",
       "        vertical-align: top;\n",
       "    }\n",
       "\n",
       "    .dataframe thead th {\n",
       "        text-align: right;\n",
       "    }\n",
       "</style>\n",
       "<table border=\"1\" class=\"dataframe\">\n",
       "  <thead>\n",
       "    <tr style=\"text-align: right;\">\n",
       "      <th></th>\n",
       "      <th>Variable1</th>\n",
       "      <th>Variable2</th>\n",
       "      <th>Variable3</th>\n",
       "      <th>Variable4</th>\n",
       "      <th>Variable5</th>\n",
       "    </tr>\n",
       "  </thead>\n",
       "  <tbody>\n",
       "    <tr>\n",
       "      <th>0</th>\n",
       "      <td>1.417265</td>\n",
       "      <td>0.535120</td>\n",
       "      <td>1.339251</td>\n",
       "      <td>0.818629</td>\n",
       "      <td>1.300346</td>\n",
       "    </tr>\n",
       "    <tr>\n",
       "      <th>1</th>\n",
       "      <td>0.587335</td>\n",
       "      <td>0.802680</td>\n",
       "      <td>0.175378</td>\n",
       "      <td>0.633777</td>\n",
       "      <td>0.166323</td>\n",
       "    </tr>\n",
       "    <tr>\n",
       "      <th>2</th>\n",
       "      <td>0.204290</td>\n",
       "      <td>1.538470</td>\n",
       "      <td>0.860947</td>\n",
       "      <td>1.214740</td>\n",
       "      <td>0.771136</td>\n",
       "    </tr>\n",
       "    <tr>\n",
       "      <th>3</th>\n",
       "      <td>0.817162</td>\n",
       "      <td>0.033445</td>\n",
       "      <td>0.573965</td>\n",
       "      <td>0.158444</td>\n",
       "      <td>0.816497</td>\n",
       "    </tr>\n",
       "    <tr>\n",
       "      <th>4</th>\n",
       "      <td>1.391729</td>\n",
       "      <td>1.304355</td>\n",
       "      <td>1.450856</td>\n",
       "      <td>1.558036</td>\n",
       "      <td>1.421309</td>\n",
       "    </tr>\n",
       "  </tbody>\n",
       "</table>\n",
       "</div>"
      ],
      "text/plain": [
       "   Variable1  Variable2  Variable3  Variable4  Variable5\n",
       "0   1.417265   0.535120   1.339251   0.818629   1.300346\n",
       "1   0.587335   0.802680   0.175378   0.633777   0.166323\n",
       "2   0.204290   1.538470   0.860947   1.214740   0.771136\n",
       "3   0.817162   0.033445   0.573965   0.158444   0.816497\n",
       "4   1.391729   1.304355   1.450856   1.558036   1.421309"
      ]
     },
     "execution_count": 60,
     "metadata": {},
     "output_type": "execute_result"
    }
   ],
   "source": [
    "# Your code here\n",
    "import pandas as pd\n",
    "\n",
    "# df = np.load('C:/Users/Admin/AIO2024_ML/Lab_Buoi5/bai3.csv')\n",
    "df = pd.read_csv('C:/Users/Admin/AIO2024_ML/Lab_Buoi5/bai3.csv')\n",
    "df\n",
    "\n",
    "mean = np.mean(df, axis=0)\n",
    "median = np.median(df, axis=0)\n",
    "std_dev = np.std(df, axis=0)\n",
    "\n",
    "# print(mean)\n",
    "# print(median)\n",
    "# print(std_dev)\n",
    "\n",
    "# numpy.corrcoef(x, y=None, rowvar=True, bias=<no value>, ddof=<no value>, *, dtype=None)\n",
    "coef = np.corrcoef(df, rowvar=False)\n",
    "\n",
    "z_score = np.abs((df - mean) / std_dev)\n",
    "outlier = np.where(z_score > 3)\n",
    "\n",
    "z_score\n",
    "\n"
   ]
  },
  {
   "cell_type": "markdown",
   "metadata": {
    "id": "ZX1eKlF805bM"
   },
   "source": [
    "# Bài 4: Thao tác với tensor\n",
    "Đề cho một tensor đại diện cho một hình ảnh thang độ xám. Thực hiện các thao tác sau:\n",
    "\n",
    "1. Reshape: Reshape tensor thành một hình dạng khác trong khi vẫn đảm bảo tổng số phần tử không đổi.\n",
    "2. Transpose: Transpose tensor dọc theo các trục được chỉ định.\n",
    "3. Slice: Trích xuất một tập hợp con của tensor bằng cách cắt dọc theo các kích thước được chỉ định.\n",
    "4. Concatenate: Concatenate nhiều tensor dọc theo các trục được chỉ định.\n",
    "5. Các phép toán theo phần tử: Thực hiện các phép toán theo phần tử như cộng, trừ, nhân và chia với các giá trị vô hướng hoặc các tensor khác.\n",
    "6. Hoạt động rút gọn: Thực hiện các hoạt động rút gọn như tính tổng, trung bình, tối thiểu và tối đa dọc theo các trục được chỉ định.\n",
    "7. Indexing: Truy cập các phần tử riêng lẻ hoặc các tensor phụ bằng cách sử dụng các chỉ số nguyên hoặc boolean mark.\n",
    "\n",
    "<details>\n",
    "  <summary>Hint</summary>\n",
    "\n",
    "  ```python\n",
    "    # 1. Reshape the tensor\n",
    "    reshaped_tensor = image_tensor.reshape(1, 9)\n",
    "\n",
    "    # 2. Transpose the tensor\n",
    "    transposed_tensor = image_tensor.T\n",
    "\n",
    "    # 3. Slice the tensor\n",
    "    sliced_tensor = image_tensor[:2, :2]\n",
    "\n",
    "    # 4. Concatenate tensors\n",
    "    concatenated_tensor = np.concatenate((image_tensor, image_tensor), axis=0)\n",
    "\n",
    "    # 5. Element-wise operations\n",
    "    added_tensor = image_tensor + 0.1\n",
    "    multiplied_tensor = image_tensor * 2\n",
    "\n",
    "    # 6. Reduction operations\n",
    "    sum_tensor = np.sum(image_tensor)\n",
    "    mean_tensor = np.mean(image_tensor, axis=0)\n",
    "    max_tensor = np.max(image_tensor, axis=1)\n",
    "\n",
    "    # 7. Indexing\n",
    "    element = image_tensor[1, 2]\n",
    "  ```\n",
    "</details>"
   ]
  },
  {
   "cell_type": "code",
   "execution_count": 49,
   "metadata": {
    "executionInfo": {
     "elapsed": 2,
     "status": "ok",
     "timestamp": 1711944428036,
     "user": {
      "displayName": "Nha Nguyen",
      "userId": "05581690424976052134"
     },
     "user_tz": -420
    },
    "id": "sKx_zUMw041d"
   },
   "outputs": [],
   "source": [
    "image_tensor = np.array([\n",
    "    [0.1, 0.2, 0.3],\n",
    "    [0.4, 0.5, 0.6],\n",
    "    [0.7, 0.8, 0.9]\n",
    "])"
   ]
  },
  {
   "cell_type": "code",
   "execution_count": 83,
   "metadata": {
    "id": "aDy3tPzby5RN"
   },
   "outputs": [
    {
     "data": {
      "text/plain": [
       "0.8"
      ]
     },
     "execution_count": 83,
     "metadata": {},
     "output_type": "execute_result"
    }
   ],
   "source": [
    "# your code here\n",
    "resh_tensor = image_tensor.reshape(1,9)\n",
    "# resh_tensor\n",
    "\n",
    "trans_tensor = image_tensor.T\n",
    "# trans_tensor\n",
    "\n",
    "slice_tensor = image_tensor[:2, :2]\n",
    "# slice_tensor\n",
    "\n",
    "concat_tensor = np.concatenate((image_tensor, image_tensor), axis=1)\n",
    "# concat_tensor\n",
    "\n",
    "add_tensor = image_tensor + 0.3\n",
    "subt_tensor = image_tensor - 0.5\n",
    "multi_tensor = image_tensor * 2\n",
    "div_tensor = image_tensor / 2\n",
    "\n",
    "sum_tensor = np.sum(image_tensor)\n",
    "# sum_tensor\n",
    "mean_tensor = np.mean(image_tensor, axis=0)\n",
    "# mean_tensor\n",
    "min_tensor = np.min(image_tensor, axis=0)\n",
    "# min_tensor\n",
    "max_tensor = np.max(image_tensor, axis=0)\n",
    "# max_tensor\n",
    "\n",
    "idx_image = image_tensor[2,1]\n",
    "idx_image\n",
    "\n",
    "\n"
   ]
  },
  {
   "cell_type": "code",
   "execution_count": null,
   "metadata": {},
   "outputs": [],
   "source": []
  },
  {
   "cell_type": "code",
   "execution_count": null,
   "metadata": {},
   "outputs": [],
   "source": []
  }
 ],
 "metadata": {
  "colab": {
   "authorship_tag": "ABX9TyMk1q12/N28maJwPQwRv9wn",
   "provenance": []
  },
  "kernelspec": {
   "display_name": "Python 3 (ipykernel)",
   "language": "python",
   "name": "python3"
  },
  "language_info": {
   "codemirror_mode": {
    "name": "ipython",
    "version": 3
   },
   "file_extension": ".py",
   "mimetype": "text/x-python",
   "name": "python",
   "nbconvert_exporter": "python",
   "pygments_lexer": "ipython3",
   "version": "3.12.2"
  }
 },
 "nbformat": 4,
 "nbformat_minor": 4
}
