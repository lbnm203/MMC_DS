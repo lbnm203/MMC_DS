{
 "cells": [
  {
   "cell_type": "markdown",
   "id": "413c2739-0eed-4df2-992e-00480d6e9b9a",
   "metadata": {},
   "source": [
    "## **Exercise 1**"
   ]
  },
  {
   "cell_type": "markdown",
   "id": "3f7dcecc-98bb-443c-b3d9-7a06e9d25a57",
   "metadata": {},
   "source": [
    "**Question 1:**\r\n",
    "\n",
    "Viết chương trình nhập vào một số thực. Đơn vị tính cho số này là centimet (cm). Hãy in ra số tương đương tính bằng foot (số thực, có 2 số lẻ thập phân) và inch (số thực, có 2 số lẻ thập phân). Với 1 inch = 2.54 cm và 1 foot = 12 inches.\r\n"
   ]
  },
  {
   "cell_type": "code",
   "execution_count": 6,
   "id": "47f96ca6-0d54-46ec-80bd-2e247e8012f3",
   "metadata": {},
   "outputs": [
    {
     "name": "stdin",
     "output_type": "stream",
     "text": [
      " 1\n"
     ]
    },
    {
     "data": {
      "text/plain": [
       "(2.54, 12.0)"
      ]
     },
     "execution_count": 6,
     "metadata": {},
     "output_type": "execute_result"
    }
   ],
   "source": [
    "def in_foot_inch(n):\n",
    "    foot = 2.54\n",
    "    inch = 12\n",
    "    foot *= n\n",
    "    inch *= n\n",
    "    return foot, inch\n",
    "\n",
    "n = float(input())\n",
    "in_foot_inch(n)"
   ]
  },
  {
   "cell_type": "markdown",
   "id": "8935039e-1eef-40e7-b34e-c05478de2edb",
   "metadata": {},
   "source": [
    " "
   ]
  },
  {
   "cell_type": "markdown",
   "id": "b46d1e74-0d5d-44b0-a447-e96b9e7147ae",
   "metadata": {},
   "source": [
    "**Question 2:**\r\n",
    "\n",
    "Viết chương trình nhập vào số giây từ 0 tới 68399, đổi số giây này thành dạng [giờ:phút:giây], mỗi thành phần là một số nguyên có 2 chữ số.\r\n",
    "Ví dụ: 02:11:05\r\n"
   ]
  },
  {
   "cell_type": "code",
   "execution_count": 14,
   "id": "339064fb-f170-4828-98a7-854cce1615a9",
   "metadata": {},
   "outputs": [
    {
     "name": "stdin",
     "output_type": "stream",
     "text": [
      " 68399\n"
     ]
    },
    {
     "name": "stdout",
     "output_type": "stream",
     "text": [
      "[18:59:59]\n"
     ]
    }
   ],
   "source": [
    "def doi_giay(giays):\n",
    "    if giays < 0 or giays > 68399:\n",
    "        print('nhap giay (0,68399)')\n",
    "    else:\n",
    "        gio = giays // 3600\n",
    "        phut = (giays % 3600) // 60\n",
    "        giay = (giays % 3600) % 60\n",
    "\n",
    "    print('[{:02}:{:02}:{:02}]'.format(gio,phut,giay))\n",
    "\n",
    "giays = int(input())\n",
    "doi_giay(giays)"
   ]
  },
  {
   "cell_type": "markdown",
   "id": "55e69382-5608-4e5a-ae60-c7d51ed133d8",
   "metadata": {},
   "source": [
    "  "
   ]
  },
  {
   "cell_type": "markdown",
   "id": "53e9f77f-e00f-47cd-87fd-1495bd30197a",
   "metadata": {},
   "source": [
    "**Question 3**\n",
    "\n",
    "Viết chương trình nhập vào 4 số nguyên. Hiển thị ra số lớn nhất và nhỏ nhất\\\n",
    "Ví dụ:\\\n",
    "nhập vào 4 số 1,2,3,4 thì kết quả là:\\\n",
    "Số lớn nhất là: 4\\\n",
    "Số nhỏ nhất là: 1"
   ]
  },
  {
   "cell_type": "code",
   "execution_count": 25,
   "id": "2763f99c-7f47-4b06-bf02-d6b61f253806",
   "metadata": {},
   "outputs": [
    {
     "name": "stdin",
     "output_type": "stream",
     "text": [
      " 1\n",
      " 2\n",
      " 3\n",
      " 4\n"
     ]
    },
    {
     "name": "stdout",
     "output_type": "stream",
     "text": [
      "so lon nhat: 4\n",
      "so nho nhat: 1\n"
     ]
    }
   ],
   "source": [
    "s1 = int(input())\n",
    "s2 = int(input())\n",
    "s3 = int(input())\n",
    "s4 = int(input())\n",
    "\n",
    "def min_max():\n",
    "    min_s = min(s1,s2,s3,s4)\n",
    "    max_s = max(s1,s2,s3,s4)\n",
    "    print(f'so lon nhat: {max_s}')\n",
    "    print(f'so nho nhat: {min_s}')\n",
    "\n",
    "min_max()"
   ]
  },
  {
   "cell_type": "markdown",
   "id": "2d4ac9cc-22d1-44b4-b009-73606f916c5d",
   "metadata": {},
   "source": [
    " "
   ]
  },
  {
   "cell_type": "markdown",
   "id": "10906f93-85d6-4787-a517-a7a7a96cbd5b",
   "metadata": {},
   "source": [
    "**Question 4:**\n",
    "\n",
    "Nhập vào hai số tự nhiên a và b. Tính hiệu của hai số đó.\\\n",
    "Nếu hiệu số lớn hơn 0 thì in ra dòng chữ [Số thứ nhất lớn hơn số thứ hai].\\\n",
    "Nếu hiệu số nhỏ hơn 0 thì in ra dòng chữ [Số thứ nhất nhỏ hơn số thứ hai].\n"
   ]
  },
  {
   "cell_type": "code",
   "execution_count": 29,
   "id": "c612c746-464b-434a-aea0-bab643b85b8a",
   "metadata": {},
   "outputs": [
    {
     "name": "stdin",
     "output_type": "stream",
     "text": [
      " 12\n",
      " 2\n"
     ]
    },
    {
     "name": "stdout",
     "output_type": "stream",
     "text": [
      "Số thứ nhất lớn hơn số thứ hai\n"
     ]
    }
   ],
   "source": [
    "a = int(input())\n",
    "b = int(input())\n",
    "\n",
    "def hieu(a,b):\n",
    "    return a - b\n",
    "\n",
    "hieu(a,b)\n",
    "if hieu(a,b) > 0:\n",
    "    print('Số thứ nhất lớn hơn số thứ hai')\n",
    "else:\n",
    "    print('Số thứ nhất nhỏ hơn số thứ hai')"
   ]
  },
  {
   "cell_type": "markdown",
   "id": "9dbbfb86-871b-4ca4-b153-f7a183fb46f8",
   "metadata": {},
   "source": [
    " "
   ]
  },
  {
   "cell_type": "markdown",
   "id": "8fdceaa7-ef5d-481c-baf6-b6729e7551f1",
   "metadata": {},
   "source": [
    "**Question 5:**\n",
    "\r\n",
    "Nhập vào 2 số tự nhiên a và b. Kiểm tra xem a có chia hết cho b không\r\n"
   ]
  },
  {
   "cell_type": "code",
   "execution_count": 33,
   "id": "48c5cf7c-69cf-422e-88c5-a1fbf4d88b53",
   "metadata": {},
   "outputs": [
    {
     "name": "stdin",
     "output_type": "stream",
     "text": [
      " 12\n",
      " 4\n"
     ]
    },
    {
     "name": "stdout",
     "output_type": "stream",
     "text": [
      "chia het\n"
     ]
    }
   ],
   "source": [
    "a = int(input())\n",
    "b = int(input())\n",
    "\n",
    "def ktra(a,b):\n",
    "    if a % b == 0:\n",
    "        print('chia het')\n",
    "    else:\n",
    "        print('khong chia het')\n",
    "\n",
    "ktra(a,b)"
   ]
  },
  {
   "cell_type": "markdown",
   "id": "4735ae15-36a2-4e59-8bde-a6a3eef9362f",
   "metadata": {},
   "source": [
    " "
   ]
  },
  {
   "cell_type": "markdown",
   "id": "3d76a7f2-ec2d-4262-9c01-18767fbe2aed",
   "metadata": {},
   "source": [
    "**Question 6:**\n",
    "\n",
    "Xếp loại sinh viên theo các quy luật dưới đây:\\\n",
    "Nếu điểm >= 9.0 - Loại xuất sắc\\\n",
    "Nếu 8.0<= điểm < 9.0 - Loại giỏi\\\n",
    "Nếu 7.0<= điểm < 8.0 - Loại khá\\\n",
    "Nếu 6.0 <= điểm < 7.0 - Loại trung bình khá\\\n",
    "Nếu 5.0 <= điểm < 6.0 - Loại trung bình\\\n",
    "Nếu điểm < 5.0 - Loại kém\\\n",
    "Với điểm = ((điểm toán)*2 + điểm lý + điểm hóa)/ 4 \n",
    "\n",
    "Viết Chương trình:\\\n",
    "a. Nhập vào điểm 3 môn học\\\n",
    "b. Tính điểm trung bình\\\n",
    "c. Xác định học lực của học sinh dựa trên điểm trung bình\\\n",
    "d. Hiển thị học lực của học sinh"
   ]
  },
  {
   "cell_type": "code",
   "execution_count": 49,
   "id": "d1fe109f-cd3b-4f01-93f2-b6060e61e473",
   "metadata": {},
   "outputs": [
    {
     "name": "stdin",
     "output_type": "stream",
     "text": [
      " 9\n",
      " 8\n",
      " 10\n"
     ]
    },
    {
     "name": "stdout",
     "output_type": "stream",
     "text": [
      "9.0\n",
      "Xuat sac\n"
     ]
    }
   ],
   "source": [
    "def diem_tb(d_toan, d_ly, d_hoa):\n",
    "    return ((d_toan)*2 + d_ly + d_hoa) / 4\n",
    "\n",
    "def ktra():\n",
    "    if dtb >= 9:\n",
    "        print('Xuat sac')\n",
    "    elif dtb >= 8 and dtb < 9 :\n",
    "        print('Gioi')\n",
    "    elif dtb >= 7 and dtb < 8:\n",
    "        print('Kha')\n",
    "    elif dtb >= 6 and dtb < 7:\n",
    "        print('Trung Binh Kha')\n",
    "    elif dtb >= 5 and dtb < 6:\n",
    "        print('Trung Binh')\n",
    "    else:\n",
    "        print('Kem')\n",
    "\n",
    "\n",
    "d_toan = int(input())\n",
    "d_ly = int(input())\n",
    "d_hoa = int(input())\n",
    "\n",
    "dtb = diem_tb(d_toan, d_ly, d_hoa)\n",
    "print(dtb)\n",
    "ktra()\n"
   ]
  },
  {
   "cell_type": "markdown",
   "id": "e100759f-ffcf-4b13-829a-8b7af6fab4c0",
   "metadata": {},
   "source": [
    "## **Exercise 2**"
   ]
  },
  {
   "cell_type": "markdown",
   "id": "d9f95e73-6549-46aa-8752-1b6429e8b563",
   "metadata": {},
   "source": [
    "**Question 1:**\n",
    "\n",
    "Hãy viết chương trình tính tổng các chữ số của một số nguyên bất kỳ \\\n",
    "Ví dụ: Số 8545604 có tổng các chữ số là: 8+5+4+5+6+0+4= 32"
   ]
  },
  {
   "cell_type": "code",
   "execution_count": 62,
   "id": "f71cd977-78ea-4584-bd5a-a1b4f0569d4a",
   "metadata": {},
   "outputs": [
    {
     "name": "stdin",
     "output_type": "stream",
     "text": [
      " 1234\n"
     ]
    },
    {
     "data": {
      "text/plain": [
       "10"
      ]
     },
     "execution_count": 62,
     "metadata": {},
     "output_type": "execute_result"
    }
   ],
   "source": [
    "n = int(input())\n",
    "def tinh_tong_sn(n):\n",
    "    sum = 0\n",
    "    while n > 0:\n",
    "        x = n % 10\n",
    "        sum += x\n",
    "        n = n // 10\n",
    "    return sum\n",
    "\n",
    "tinh_tong_sn(n)"
   ]
  },
  {
   "cell_type": "markdown",
   "id": "cb636885-8fc7-438f-bd3d-ae50935a525d",
   "metadata": {},
   "source": [
    " "
   ]
  },
  {
   "cell_type": "markdown",
   "id": "433dd794-3fd7-4ab0-bb6c-3d39972460ec",
   "metadata": {},
   "source": [
    "**Question 2:**\n",
    "\n",
    "Viết chương trình phân tích một số nguyên thành các thừa số nguyên tố\\\n",
    "Ví dụ: Số 28 được phân tích thành 2 x 2 x 7"
   ]
  },
  {
   "cell_type": "code",
   "execution_count": null,
   "id": "a73b7bd5-3ae8-4e86-b14a-bae4c516c31e",
   "metadata": {},
   "outputs": [],
   "source": [
    "# SNT la so > 2 chia duoc cho 1 va chinh no #\n",
    "\n",
    "import math\n",
    "def phan_tich_ttnt(n):\n",
    "    a = []\n",
    "    i = 2\n",
    "    while math.sqrt(i) <= n:\n",
    "        while n % i == 0:\n",
    "            a.append(i)\n",
    "            n //= i\n",
    "        i+=1\n",
    "    if n > 1:\n",
    "        a.append(n)\n",
    "    return a\n",
    "\n",
    "phan_tich_ttnt(60)"
   ]
  },
  {
   "cell_type": "markdown",
   "id": "0bfb1ab9-d4d7-4fe3-8426-bee24425804e",
   "metadata": {},
   "source": [
    " "
   ]
  },
  {
   "cell_type": "markdown",
   "id": "74630c01-f78c-4fa5-ba54-8facd559c9a0",
   "metadata": {},
   "source": [
    "**Question 3:**\n",
    "\r\n",
    "Viết chương trình liệt kê tất cả các số nguyên tố nhỏ hơn n cho trước\r\n"
   ]
  },
  {
   "cell_type": "code",
   "execution_count": 32,
   "id": "0cf49bdf-f0e2-4323-b42d-0f56ab9fe63d",
   "metadata": {},
   "outputs": [
    {
     "name": "stdin",
     "output_type": "stream",
     "text": [
      " 5\n"
     ]
    },
    {
     "name": "stdout",
     "output_type": "stream",
     "text": [
      "2 3 "
     ]
    }
   ],
   "source": [
    "import math\n",
    "def kiem_tra_snt(n):\n",
    "    if n < 2:\n",
    "        return 0\n",
    "    for i in range(2,int(math.sqrt(n))+1):\n",
    "        if n % i == 0:\n",
    "            return 0\n",
    "    return 1 \n",
    "\n",
    "def liet_ke_snt(n):\n",
    "    if n >= 2:\n",
    "        for i in range(n):\n",
    "            if kiem_tra_snt(i):\n",
    "                print(i, end=\" \")\n",
    "    else:\n",
    "        print('Nhap so nguyen to (>=2)!')\n",
    "\n",
    "n = int(input())\n",
    "liet_ke_snt(n)"
   ]
  },
  {
   "cell_type": "markdown",
   "id": "dc8f475c-9873-4dc9-be15-5fd6a80e0b9b",
   "metadata": {},
   "source": [
    " "
   ]
  },
  {
   "cell_type": "markdown",
   "id": "f48d1d58-6206-46d7-86a6-bf40706c45e0",
   "metadata": {},
   "source": [
    "**Question 4:**\n",
    "\n",
    "Viết chương trình liệt kê n số nguyên tố đầu tiên.\n"
   ]
  },
  {
   "cell_type": "code",
   "execution_count": 20,
   "id": "afdda322-cd64-413d-82dd-a4d296026efd",
   "metadata": {},
   "outputs": [
    {
     "name": "stdin",
     "output_type": "stream",
     "text": [
      " 7\n"
     ]
    },
    {
     "data": {
      "text/plain": [
       "[2, 3, 5, 7, 11, 13, 17]"
      ]
     },
     "execution_count": 20,
     "metadata": {},
     "output_type": "execute_result"
    }
   ],
   "source": [
    "import math\n",
    "def kiem_tra_snt(n):\n",
    "    if n < 2:\n",
    "        return 0\n",
    "    for i in range(2,int(math.sqrt(n))+1):\n",
    "        if n % i == 0:\n",
    "            return 0\n",
    "    return 1 \n",
    "\n",
    "def liet_ke_snt_dautien(n):\n",
    "    mang_chua_snt = [] \n",
    "    i = 2\n",
    "    while len(mang_chua_snt) < n:\n",
    "        if kiem_tra_snt(i):\n",
    "            mang_chua_snt.append(i)\n",
    "        i += 1\n",
    "    return mang_chua_snt\n",
    "    \n",
    "n = int(input())\n",
    "liet_ke_snt_dautien(n)"
   ]
  },
  {
   "cell_type": "markdown",
   "id": "688abf2e-8d84-42b6-8fbd-667496d8346b",
   "metadata": {},
   "source": [
    " "
   ]
  },
  {
   "cell_type": "markdown",
   "id": "4369617e-1e59-4686-8a15-5bbb7b08409d",
   "metadata": {},
   "source": [
    "**Question 5:**\n",
    "\n",
    "Viết chương trình tìm ưcln và bcnn của 2 số tự nhiên a, b"
   ]
  },
  {
   "cell_type": "code",
   "execution_count": 12,
   "id": "988e7caa-fe17-4b63-b137-c038c819c0c3",
   "metadata": {},
   "outputs": [
    {
     "name": "stdin",
     "output_type": "stream",
     "text": [
      " 12\n",
      " 0\n"
     ]
    },
    {
     "name": "stdout",
     "output_type": "stream",
     "text": [
      "12\n",
      "12\n"
     ]
    }
   ],
   "source": [
    "# ưcln của hai số nguyên a và b là số nguyên dương lớn nhất mà a và b chia hết.\n",
    "# bcnn của hai số nguyên a và b là số nguyên dương nhỏ nhất chia hết cho cả a và b.\n",
    "#-------------------------------\n",
    "# C1: dựa vào ucln\n",
    "# ucln(a,b) = (a*b)/ bcnn(a,b)\n",
    "#-------------------------------\n",
    "# C2: phân tích thừa số nt\n",
    "# Phân tích mỗi số thành thừa số nguyên tố.\n",
    "# Tìm các thừa số nguyên tố chung giữa hai số.\n",
    "# Nhân các thừa số nguyên tố chung lại với nhau để tìm ƯCLN.\n",
    "#-----------------------------------\n",
    "import math\n",
    "def ucln(a,b): # theo phuong phap Euclid\n",
    "    if a == 0 or b == 0:\n",
    "        return a+b\n",
    "    \n",
    "    while a != b:\n",
    "        if a > b:\n",
    "            a -= b\n",
    "        else:\n",
    "            b -= a\n",
    "    return a\n",
    "\n",
    "def bcnn(a,b):\n",
    "    if a == 0:\n",
    "        return 0\n",
    "    elif b == 0:\n",
    "        return a\n",
    "    return a * b / ucln(a,b)\n",
    "    \n",
    "a = int(input()) \n",
    "b = int(input()) \n",
    "print(ucln(a,b))\n",
    "print(bcnn(a,b))"
   ]
  },
  {
   "cell_type": "markdown",
   "id": "31c80c4b-ad88-4e44-bd08-237826ecc29c",
   "metadata": {},
   "source": [
    " "
   ]
  },
  {
   "cell_type": "markdown",
   "id": "6a442dc8-8c38-439f-8c80-77850169ec9e",
   "metadata": {},
   "source": [
    "**Question 6:**\n",
    "\n",
    "Tìm dãy fibonacci\n"
   ]
  },
  {
   "cell_type": "code",
   "execution_count": 18,
   "id": "f13f24fd-2db9-4320-b79b-061c2b8e23fc",
   "metadata": {},
   "outputs": [
    {
     "name": "stdin",
     "output_type": "stream",
     "text": [
      " 11\n"
     ]
    },
    {
     "data": {
      "text/plain": [
       "89"
      ]
     },
     "execution_count": 18,
     "metadata": {},
     "output_type": "execute_result"
    }
   ],
   "source": [
    "# Dãy Fibonacci là dãy vô hạn các số tự nhiên bắt đầu bằng hai phần tử 0 hoặc 1 và 1,\n",
    "# các phần tử sau đó được thiết lập theo quy tắc mỗi phần tử luôn bằng tổng hai phần tử trước nó\n",
    "# n = 1, n = 2 -> fibo = 1; n > 2 -> fibo(n-1) + fibo(n-2)\n",
    "\n",
    "def fibo(n):\n",
    "    if n == 1:\n",
    "        return 1\n",
    "    if n == 2:\n",
    "        return 1\n",
    "    if n > 2:\n",
    "        return fibo(n-1) + fibo(n-2)\n",
    "\n",
    "n = int(input())\n",
    "fibo(n)"
   ]
  },
  {
   "cell_type": "markdown",
   "id": "f1fdc361-8e7f-4bb5-8a5f-ab70c771dc68",
   "metadata": {},
   "source": [
    " "
   ]
  },
  {
   "cell_type": "markdown",
   "id": "cc33e145-bef5-4728-b38c-054cd71da084",
   "metadata": {},
   "source": [
    "**Question 7:**\n",
    "\n",
    "Hãy liệt kê các số Fibonaci nhỏ hơn n là số nguyên tố"
   ]
  },
  {
   "cell_type": "code",
   "execution_count": 26,
   "id": "64d42a04-33a3-4c7e-a17f-962bcda9c77a",
   "metadata": {},
   "outputs": [
    {
     "name": "stdin",
     "output_type": "stream",
     "text": [
      " 100\n"
     ]
    },
    {
     "data": {
      "text/plain": [
       "[2, 3, 5, 13, 89]"
      ]
     },
     "execution_count": 26,
     "metadata": {},
     "output_type": "execute_result"
    }
   ],
   "source": [
    "import math\n",
    "def kiem_tra_snt(n):\n",
    "    if n < 2:\n",
    "        return 0\n",
    "    for i in range(2,int(math.sqrt(n))+1):\n",
    "        if n % i == 0:\n",
    "            return 0\n",
    "    return 1 \n",
    "\n",
    "def liet_ke_fibo(n):\n",
    "    mang_chua_snt = []\n",
    "    a = 0\n",
    "    b = 1\n",
    "    while a < n:\n",
    "        if kiem_tra_snt(a):\n",
    "            mang_chua_snt.append(a)\n",
    "\n",
    "        next_fibo_values = a + b\n",
    "        a = b\n",
    "        b = next_fibo_values\n",
    "    return mang_chua_snt\n",
    "\n",
    "n = int(input())\n",
    "liet_ke_fibo(n)"
   ]
  },
  {
   "cell_type": "markdown",
   "id": "81acd488-9431-4c4b-846b-02624ab134a5",
   "metadata": {},
   "source": [
    " "
   ]
  },
  {
   "cell_type": "markdown",
   "id": "f4bdc9bb-3af2-47f0-9ffb-87dd17bf3a35",
   "metadata": {},
   "source": [
    "**Question 8:**\n",
    "\n",
    "Nhập số nguyên dương n\\\n",
    "a. Tính tổng số n\\\n",
    "b. phân tích n thành số nguyên tố\n"
   ]
  },
  {
   "cell_type": "code",
   "execution_count": 10,
   "id": "0f31afca-86e5-409a-a693-d81b6bcb7b40",
   "metadata": {},
   "outputs": [
    {
     "name": "stdin",
     "output_type": "stream",
     "text": [
      " 1234\n"
     ]
    },
    {
     "name": "stdout",
     "output_type": "stream",
     "text": [
      "10\n",
      "[2, 617]\n"
     ]
    }
   ],
   "source": [
    "import math\n",
    "def tinh_tong_n(n):\n",
    "    sum = 0;\n",
    "    while n > 0:\n",
    "        n_1 = n % 10\n",
    "        sum += n_1\n",
    "        n = n // 10\n",
    "    return sum\n",
    "\n",
    "def phan_tich_snt(n):\n",
    "    mang_chua_snt = []\n",
    "    i = 2\n",
    "    while math.sqrt(i) <= n:\n",
    "        if n % i == 0:\n",
    "            mang_chua_snt.append(i)\n",
    "            n = n // i\n",
    "        i+=1\n",
    "    if n > 1:\n",
    "        mang_chua_snt.append(n)\n",
    "\n",
    "    return mang_chua_snt\n",
    "    \n",
    "n = int(input())\n",
    "print(tinh_tong_n(n))\n",
    "print(phan_tich_snt(n))"
   ]
  },
  {
   "cell_type": "markdown",
   "id": "8437d86c-e726-445c-bde0-d9c3da2d47f9",
   "metadata": {},
   "source": [
    " "
   ]
  },
  {
   "cell_type": "markdown",
   "id": "320f8245-c6e9-4013-910a-8975a8f9ea76",
   "metadata": {},
   "source": [
    "**Question 9**\n",
    "\n",
    "Nhập số nguyên dương n\\\n",
    "a. Liệt kê các ước của n. n gồm bao nhiêu ước\\\n",
    "b. Liệt kê các ước số là nguyên tố của n."
   ]
  },
  {
   "cell_type": "code",
   "execution_count": 27,
   "id": "11e5ec39-524f-4244-99f8-42459a0e3ba1",
   "metadata": {},
   "outputs": [
    {
     "name": "stdin",
     "output_type": "stream",
     "text": [
      " 38\n"
     ]
    },
    {
     "name": "stdout",
     "output_type": "stream",
     "text": [
      "4\n",
      "[1, 2, 19, 38]\n"
     ]
    }
   ],
   "source": [
    "# neu N chia duoc cho so do thi so do la uoc\n",
    "\n",
    "def dem_uoc_so(n):\n",
    "    dem = 0\n",
    "    for i in range(1,n+1):\n",
    "        if n % i == 0:\n",
    "            dem+=1\n",
    "    return dem\n",
    "\n",
    "def liet_ke_uoc_so(n):\n",
    "    mang_chua_us = []\n",
    "    for i in range(1, n+1):\n",
    "        if n % i == 0:\n",
    "            mang_chua_us.append(i)\n",
    "    return mang_chua_us\n",
    "\n",
    "n = int(input())\n",
    "print(dem_uoc_so(n))\n",
    "print(liet_ke_uoc_so(n))"
   ]
  },
  {
   "cell_type": "markdown",
   "id": "d0594d1b-a01f-4756-85ae-843dac06a88c",
   "metadata": {},
   "source": [
    " "
   ]
  },
  {
   "cell_type": "markdown",
   "id": "b610cb2e-cdd9-43ed-b55a-f09aa403be57",
   "metadata": {},
   "source": [
    "**Question 10:**\n",
    "\n",
    "Viết chương trình thực hiện chuẩn hoá một xâu ký tự nhập từ bàn phím (loại bỏ các dấu cách thừa,\\\n",
    "chuyển ký tự đầu mỗi từ thành chữ hoa, các ký tự khác thành chữ thường)"
   ]
  },
  {
   "cell_type": "code",
   "execution_count": 42,
   "id": "0b7b1397-cd3f-4a18-9646-d0f166aabc75",
   "metadata": {},
   "outputs": [
    {
     "name": "stdin",
     "output_type": "stream",
     "text": [
      "   dai  hoc  \n"
     ]
    },
    {
     "data": {
      "text/plain": [
       "'Dai Hoc'"
      ]
     },
     "execution_count": 42,
     "metadata": {},
     "output_type": "execute_result"
    }
   ],
   "source": [
    "def chuan_hoa_xau(st):\n",
    "    st = st.strip() # xoa kt\n",
    "    str = st.split() # Tach\n",
    "    xau_str = []\n",
    "\n",
    "    for i in str:\n",
    "        if i:\n",
    "            xau = i[0].upper() + i[1:].lower()\n",
    "            xau_str.append(xau)\n",
    "            \n",
    "    xau_khi_chuan_hoa = ' '.join(xau_str)\n",
    "    return xau_khi_chuan_hoa\n",
    "\n",
    "st = input()\n",
    "chuan_hoa_xau(st)"
   ]
  },
  {
   "cell_type": "markdown",
   "id": "373d2269-62fa-4d3c-be1e-a252ea963404",
   "metadata": {},
   "source": [
    " "
   ]
  },
  {
   "cell_type": "markdown",
   "id": "2c89f305-a289-4bfb-8888-c6939cd4a0e5",
   "metadata": {},
   "source": [
    "**Question 11:**\n",
    "\n",
    "Nhập xâu\\\n",
    "a. Tìm từ dài nhất trong xâu đó\\\n",
    "b. Từ đó xuất hiện ở vị trí nào?\\\n",
    "(Chú ý. nếu có nhiều từ có độ dài giống nhau thì chọn từ đầu tiên tìm thấy)"
   ]
  },
  {
   "cell_type": "code",
   "execution_count": 50,
   "id": "4c65b4fa-e795-4e29-b5f6-1cf24297277f",
   "metadata": {},
   "outputs": [
    {
     "name": "stdin",
     "output_type": "stream",
     "text": [
      "  dai  hoc  thang longg  \n"
     ]
    },
    {
     "name": "stdout",
     "output_type": "stream",
     "text": [
      "thang , vi tri: 2\n"
     ]
    }
   ],
   "source": [
    "def tim_max_tu_va_vt(st):\n",
    "    str = st.strip().split()\n",
    "    tu_max = \"\"\n",
    "    vt = -1 # hien -1 neu do la xau rong\n",
    "\n",
    "    for i in range(len(str)):\n",
    "        if len(str[i]) > len(tu_max):\n",
    "            tu_max = str[i]\n",
    "            vt = i  \n",
    "\n",
    "    return tu_max, vt\n",
    "\n",
    "# Nhập xâu ký tự từ người dùng\n",
    "st = input()\n",
    "tu_max, vt = tim_max_tu_va_vt(st)\n",
    "print(f'{tu_max} , vi tri: {vt}')"
   ]
  },
  {
   "cell_type": "markdown",
   "id": "8c993107-d540-41d1-bef1-58b56d82c36f",
   "metadata": {},
   "source": [
    "## Exercise 3:"
   ]
  },
  {
   "attachments": {
    "880097ff-260a-4075-920e-8c25dffdc0c0.png": {
     "image/png": "[encoded data removed]"
    }
   },
   "cell_type": "markdown",
   "id": "bbadb6ec-81e5-4125-ac8d-d19cb070c748",
   "metadata": {},
   "source": [
    "**Question 1:**\n",
    "\n",
    "Sử dụng for, while, do while để cho ra kết quả a, b, c, d như ảnh\n",
    "\n",
    "![image.png](attachment:880097ff-260a-4075-920e-8c25dffdc0c0.png)"
   ]
  },
  {
   "cell_type": "code",
   "execution_count": 4,
   "id": "ef1ada2b-4ef5-437a-9137-5baef42ef9e3",
   "metadata": {},
   "outputs": [
    {
     "name": "stdin",
     "output_type": "stream",
     "text": [
      " 10\n"
     ]
    },
    {
     "name": "stdout",
     "output_type": "stream",
     "text": [
      "* \n",
      "* * \n",
      "* * * \n",
      "* * * * \n",
      "* * * * * \n",
      "* * * * * * \n",
      "* * * * * * * \n",
      "* * * * * * * * \n",
      "* * * * * * * * * \n",
      "* * * * * * * * * * \n",
      "\n",
      "* * * * * * * * * * \n",
      "* * * * * * * * * \n",
      "* * * * * * * * \n",
      "* * * * * * * \n",
      "* * * * * * \n",
      "* * * * * \n",
      "* * * * \n",
      "* * * \n",
      "* * \n",
      "* \n",
      "\n",
      "* * * * * * * * * * \n",
      "  * * * * * * * * * \n",
      "    * * * * * * * * \n",
      "      * * * * * * * \n",
      "        * * * * * * \n",
      "          * * * * * \n",
      "            * * * * \n",
      "              * * * \n",
      "                * * \n",
      "                  * \n",
      "                    \n",
      "\n",
      "                    \n",
      "                  * \n",
      "                * * \n",
      "              * * * \n",
      "            * * * * \n",
      "          * * * * * \n",
      "        * * * * * * \n",
      "      * * * * * * * \n",
      "    * * * * * * * * \n",
      "  * * * * * * * * * \n",
      "* * * * * * * * * * \n"
     ]
    }
   ],
   "source": [
    "def in_anh_1(n):\n",
    "    i = 1\n",
    "    while i < n+1:\n",
    "        print('* ' * i)\n",
    "        i += 1\n",
    "\n",
    "def in_anh_2(n):\n",
    "    while n > 0:\n",
    "        print('* ' * n)\n",
    "        n -= 1\n",
    "        \n",
    "def in_anh_3(n):\n",
    "    for i in range(0,n+1):\n",
    "        for j in range(i):\n",
    "            print(' ',end=' ')        \n",
    "        for j in range(n-i):\n",
    "            print('*', end=' ')\n",
    "        print('')\n",
    "\n",
    "def in_anh_4(n):\n",
    "    for i in range(0,n+1):\n",
    "        for j in range(n-i):\n",
    "            print(' ',end=' ')        \n",
    "        for j in range(i):\n",
    "            print('*', end=' ')\n",
    "        print('')\n",
    "\n",
    "n = int(input())\n",
    "in_anh_1(n)\n",
    "print('')\n",
    "in_anh_2(n)\n",
    "print('')\n",
    "in_anh_3(n)\n",
    "print('')\n",
    "in_anh_4(n)"
   ]
  },
  {
   "cell_type": "markdown",
   "id": "1a8b7f85-5655-4b32-9bdc-021c90b1199b",
   "metadata": {},
   "source": [
    " "
   ]
  },
  {
   "cell_type": "markdown",
   "id": "6d330681-ae3f-413d-93eb-2f1d257109a5",
   "metadata": {},
   "source": [
    "**Question 2:**\n",
    "\n",
    "Viết chương trình tính n! với n>0"
   ]
  },
  {
   "cell_type": "code",
   "execution_count": 17,
   "id": "6789e358-0718-4fdd-bdb2-a23a774bcdf9",
   "metadata": {},
   "outputs": [
    {
     "name": "stdin",
     "output_type": "stream",
     "text": [
      " 4\n"
     ]
    },
    {
     "name": "stdout",
     "output_type": "stream",
     "text": [
      "24\n"
     ]
    }
   ],
   "source": [
    "def tinh_giai_thua(n):\n",
    "    sum = 1\n",
    "    if n < 0:\n",
    "        print('Nhap n > 0!')\n",
    "    else:\n",
    "        for i in range(1,n+1):\n",
    "            sum *= i \n",
    "        return sum\n",
    "\n",
    "n = int(input())\n",
    "print(tinh_giai_thua(n))"
   ]
  }
 ],
 "metadata": {
  "kernelspec": {
   "display_name": "Python 3 (ipykernel)",
   "language": "python",
   "name": "python3"
  },
  "language_info": {
   "codemirror_mode": {
    "name": "ipython",
    "version": 3
   },
   "file_extension": ".py",
   "mimetype": "text/x-python",
   "name": "python",
   "nbconvert_exporter": "python",
   "pygments_lexer": "ipython3",
   "version": "3.11.7"
  }
 },
 "nbformat": 4,
 "nbformat_minor": 5
}
