{
 "cells": [
  {
   "cell_type": "code",
   "execution_count": 2,
   "id": "b6d5a801-f191-4ef8-90b2-3dbddad2979c",
   "metadata": {},
   "outputs": [],
   "source": [
    "def menu():\n",
    "    print(\"GAME LÔ ĐỀ HỌC\")\n",
    "    print(\"1. Chơi lô\")\n",
    "    print(\"2. Đổi mật khẩu\")\n",
    "    print(\"3. Thống kê\")\n",
    "    print(\"4. Đăng xuất\")\n",
    "\n",
    "def menu_admin():\n",
    "    print(\"ADMIN GAME LÔ ĐỀ HỌC\")\n",
    "    print(\"1. Tạo tài khoản\")\n",
    "    print(\"2. Xóa tài khoản\")\n",
    "    print(\"3. Nạp tiền tài khoản\")\n",
    "    print(\"4. Thống kê\")\n",
    "    print(\"5. Đăng xuất\")"
   ]
  },
  {
   "cell_type": "code",
   "execution_count": null,
   "id": "96d109b8-1dd7-49a2-b47b-65e865769927",
   "metadata": {},
   "outputs": [],
   "source": []
  }
 ],
 "metadata": {
  "kernelspec": {
   "display_name": "Python 3 (ipykernel)",
   "language": "python",
   "name": "python3"
  },
  "language_info": {
   "codemirror_mode": {
    "name": "ipython",
    "version": 3
   },
   "file_extension": ".py",
   "mimetype": "text/x-python",
   "name": "python",
   "nbconvert_exporter": "python",
   "pygments_lexer": "ipython3",
   "version": "3.11.7"
  }
 },
 "nbformat": 4,
 "nbformat_minor": 5
}
