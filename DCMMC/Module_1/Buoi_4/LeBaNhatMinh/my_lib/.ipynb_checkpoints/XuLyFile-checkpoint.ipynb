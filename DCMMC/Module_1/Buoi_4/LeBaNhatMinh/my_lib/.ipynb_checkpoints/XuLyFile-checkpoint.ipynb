{
 "cells": [
  {
   "cell_type": "code",
   "execution_count": 1,
   "id": "d9982308-f29c-4da4-9e09-f2fb66e1c840",
   "metadata": {},
   "outputs": [],
   "source": [
    "def ghi_file(data, ten_file, mode):\n",
    "    try:\n",
    "        with open(ten_file, mode) as file:\n",
    "            for line in data:\n",
    "                file.write(line)\n",
    "    except Exception as e:\n",
    "        print(f\"Có lỗi xảy ra: {e}\")\n",
    "\n",
    "\n",
    "def doc_file(duong_dan, mode):\n",
    "    try:\n",
    "        with open(duong_dan, mode) as file:\n",
    "            du_lieu = [line.strip().split(',') for line in file.readlines()]\n",
    "        return du_lieu\n",
    "    except Exception as e:\n",
    "        print(f\"Có lỗi xảy ra khi đọc file: {e}\")\n",
    "        return None"
   ]
  },
  {
   "cell_type": "code",
   "execution_count": null,
   "id": "8c24c706-e30c-4a4a-a90d-423a8ae69531",
   "metadata": {},
   "outputs": [],
   "source": []
  }
 ],
 "metadata": {
  "kernelspec": {
   "display_name": "Python 3 (ipykernel)",
   "language": "python",
   "name": "python3"
  },
  "language_info": {
   "codemirror_mode": {
    "name": "ipython",
    "version": 3
   },
   "file_extension": ".py",
   "mimetype": "text/x-python",
   "name": "python",
   "nbconvert_exporter": "python",
   "pygments_lexer": "ipython3",
   "version": "3.11.7"
  }
 },
 "nbformat": 4,
 "nbformat_minor": 5
}
