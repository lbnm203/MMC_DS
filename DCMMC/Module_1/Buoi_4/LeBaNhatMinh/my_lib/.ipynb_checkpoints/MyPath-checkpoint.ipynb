{
 "cells": [
  {
   "cell_type": "code",
   "execution_count": 1,
   "id": "85c8b2ee-7040-4779-b167-fc4baeaef587",
   "metadata": {},
   "outputs": [],
   "source": [
    "PATH_DATA_TAI_KHOAN = \"C:/Users/Admin/AIO2024_ML/Lab_Buoi4/taikhoan.txt\"\n",
    "PATH_DATA_CHOI_LO = \"C:/Users/Admin/AIO2024_ML/Lab_Buoi4/choilo.txt\""
   ]
  },
  {
   "cell_type": "code",
   "execution_count": null,
   "id": "9d0e9200-a060-49d2-b586-435bdbfb7b65",
   "metadata": {},
   "outputs": [],
   "source": []
  }
 ],
 "metadata": {
  "kernelspec": {
   "display_name": "Python 3 (ipykernel)",
   "language": "python",
   "name": "python3"
  },
  "language_info": {
   "codemirror_mode": {
    "name": "ipython",
    "version": 3
   },
   "file_extension": ".py",
   "mimetype": "text/x-python",
   "name": "python",
   "nbconvert_exporter": "python",
   "pygments_lexer": "ipython3",
   "version": "3.11.7"
  }
 },
 "nbformat": 4,
 "nbformat_minor": 5
}
