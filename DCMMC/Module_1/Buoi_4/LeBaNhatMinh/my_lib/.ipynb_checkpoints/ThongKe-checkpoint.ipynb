{
 "cells": [
  {
   "cell_type": "code",
   "execution_count": 2,
   "id": "4677e542-3727-4695-9607-dc0ed050fa59",
   "metadata": {},
   "outputs": [
    {
     "ename": "ModuleNotFoundError",
     "evalue": "No module named 'XuLyFile'",
     "output_type": "error",
     "traceback": [
      "\u001b[1;31m---------------------------------------------------------------------------\u001b[0m",
      "\u001b[1;31mModuleNotFoundError\u001b[0m                       Traceback (most recent call last)",
      "Cell \u001b[1;32mIn[2], line 1\u001b[0m\n\u001b[1;32m----> 1\u001b[0m \u001b[38;5;28;01mfrom\u001b[39;00m \u001b[38;5;21;01mXuLyFile\u001b[39;00m \u001b[38;5;28;01mimport\u001b[39;00m \u001b[38;5;241m*\u001b[39m\n\u001b[0;32m      2\u001b[0m \u001b[38;5;28;01mfrom\u001b[39;00m \u001b[38;5;21;01mMyPath\u001b[39;00m \u001b[38;5;28;01mimport\u001b[39;00m \u001b[38;5;241m*\u001b[39m\n\u001b[0;32m      4\u001b[0m \u001b[38;5;28;01mdef\u001b[39;00m \u001b[38;5;21mthong_ke_user\u001b[39m(username):\n",
      "\u001b[1;31mModuleNotFoundError\u001b[0m: No module named 'XuLyFile'"
     ]
    }
   ],
   "source": [
    "from .XuLyFile import *\n",
    "from .MyPath import *\n",
    "\n",
    "def thong_ke_user(username):\n",
    "    try:\n",
    "        du_lieu_choi_lo = doc_file(PATH_DATA_CHOI_LO, \"r\")\n",
    "        so_lan_choi = 0\n",
    "        tong_tien_thang = 0\n",
    "        tong_tien_thua = 0\n",
    "        so_lan_thang = 0\n",
    "        so_lan_thua = 0\n",
    "\n",
    "        for choi_lo in du_lieu_choi_lo:\n",
    "            if choi_lo[1] == username:\n",
    "                so_lan_choi += 1\n",
    "                tong_tien_thang += int(choi_lo[-2])\n",
    "                tong_tien_thua += int(choi_lo[-1])\n",
    "                if int(choi_lo[-2]) >  0:\n",
    "                    so_lan_thang += 1\n",
    "                else:\n",
    "                    so_lan_thua += 1\n",
    "        ti_le_thang = round(so_lan_thang / so_lan_thua, 2) if so_lan_thua > 0 else 0\n",
    "\n",
    "        # In kết quả\n",
    "        print(\"===THỐNG KÊ CHƠI LÔ USER: \"+ username+\"===\")\n",
    "        print(\"Số lần chơi lô:\", so_lan_choi)\n",
    "        print(\"Tổng tiền chơi lô thắng:\", tong_tien_thang)\n",
    "        print(\"Tổng tiền chơi lô thua:\", tong_tien_thua)\n",
    "        print(\"Tỉ lệ chơi lô thắng:\", ti_le_thang)\n",
    "\n",
    "    except Exception as e:\n",
    "        print(f\"Có lỗi xảy ra khi thực hiện thống kê: {e}\")\n",
    "\n",
    "\n",
    "def thong_ke_admin():\n",
    "    try:\n",
    "        # Đọc dữ liệu từ file choilo.txt\n",
    "        du_lieu_choi_lo = doc_file(PATH_DATA_CHOI_LO, \"r\")\n",
    "        so_luong_tai_khoan = len(doc_file(PATH_DATA_TAI_KHOAN, \"r\"))\n",
    "        tong_so_lan_choi_lo = len(du_lieu_choi_lo)\n",
    "        tong_tien_thang = sum(int(choi_lo[-2]) for choi_lo in du_lieu_choi_lo)\n",
    "        tong_tien_thua = sum(int(choi_lo[-1]) for choi_lo in du_lieu_choi_lo)\n",
    "        so_lan_thang = sum(1 for choi_lo in du_lieu_choi_lo if int(choi_lo[-2]) > 0)\n",
    "        so_lan_thua = tong_so_lan_choi_lo - so_lan_thang\n",
    "\n",
    "        # Tính tỷ lệ thắng/thua\n",
    "        ti_le_thang_thua = round(so_lan_thang / so_lan_thua, 2) if so_lan_thua > 0 else 0\n",
    "\n",
    "        # In kết quả thống kê\n",
    "        print(\"===THỐNG KÊ TỔNG HỢP===\")\n",
    "        print(\"Số lượng tài khoản:\", so_luong_tai_khoan)\n",
    "        print(\"Tổng số lượt chơi lô:\", tong_so_lan_choi_lo)\n",
    "        print(\"Tổng tiền chơi lô thắng:\", tong_tien_thang)\n",
    "        print(\"Tổng tiền chơi lô thua:\", tong_tien_thua)\n",
    "        print(\"Tỉ lệ thắng/thua:\", ti_le_thang_thua)\n",
    "\n",
    "    except Exception as e:\n",
    "        print(f\"Có lỗi xảy ra khi thực hiện thống kê tổng hợp: {e}\")"
   ]
  }
 ],
 "metadata": {
  "kernelspec": {
   "display_name": "Python 3 (ipykernel)",
   "language": "python",
   "name": "python3"
  },
  "language_info": {
   "codemirror_mode": {
    "name": "ipython",
    "version": 3
   },
   "file_extension": ".py",
   "mimetype": "text/x-python",
   "name": "python",
   "nbconvert_exporter": "python",
   "pygments_lexer": "ipython3",
   "version": "3.11.7"
  }
 },
 "nbformat": 4,
 "nbformat_minor": 5
}
